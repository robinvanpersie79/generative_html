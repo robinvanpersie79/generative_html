{
 "cells": [
  {
   "cell_type": "code",
   "execution_count": 1,
   "id": "b2bcfcf6",
   "metadata": {},
   "outputs": [],
   "source": [
    "import os\n",
    "\n"
   ]
  },
  {
   "cell_type": "code",
   "execution_count": 8,
   "id": "83cde5af",
   "metadata": {},
   "outputs": [],
   "source": [
    "base = \"datasetbutton\"\n",
    "\n",
    "txts = [base+\"/\"+i for i in os.listdir(base) if \"txt\" in i]\n",
    "\n",
    "new_list=[]\n",
    "for file in txts:\n",
    "    with open((file), 'r') as f:\n",
    "        text = f.read()\n",
    "        new_list.append(text)\n"
   ]
  },
  {
   "cell_type": "code",
   "execution_count": 10,
   "id": "8376d1a1",
   "metadata": {},
   "outputs": [],
   "source": [
    "text = \"\"\n",
    "for i in new_list:\n",
    "    text += i"
   ]
  },
  {
   "cell_type": "code",
   "execution_count": 12,
   "id": "1396241f",
   "metadata": {},
   "outputs": [
    {
     "data": {
      "text/plain": [
       "'/Users/mehmetburaksayici/Desktop/sahibinden/generative_html/notebooks'"
      ]
     },
     "execution_count": 12,
     "metadata": {},
     "output_type": "execute_result"
    }
   ],
   "source": [
    "import os \n",
    "os.getcwd()"
   ]
  },
  {
   "cell_type": "code",
   "execution_count": 70,
   "id": "c06c7745",
   "metadata": {},
   "outputs": [
    {
     "name": "stdout",
     "output_type": "stream",
     "text": [
      "@import url(\"http://fonts.googleapis.com/css?family=Lato:100,300,700\")\n",
      "h1\n",
      "  color: #fff\n",
      "  font-family: 'Lato'\n",
      "  font-weight: 500\n",
      "  letter-spacing: 1.8px\n",
      "  text-transform: uppercase\n",
      "  text-align: center\n",
      "  padding: 10px 0 0 5px\n",
      "  width: 500px\n",
      "  margin-left: -220px\n",
      "  margin-bottom: 60px\n",
      "\n",
      "body\n",
      "  background-color: #1a1a1a\n",
      "\n",
      ".text,\n",
      ".hover\n",
      "  color: #fff\n",
      "  font-family: 'Lato'\n",
      "  font-weight: 500\n",
      "  letter-spacing: 1.8px\n",
      "  text-transform: uppercase\n",
      "  text-align: center\n",
      "  padding: 10px 0 0 5px\n",
      "\n",
      ".text span,\n",
      ".hover span\n",
      "  font-weight: 300\n",
      "\n",
      ".hover\n",
      "  color: #1a1a1a\n",
      "  margin-top: -50px\n",
      "  margin-bottom: 25px\n",
      "\n",
      ".container\n",
      "  height: 50px\n",
      "  width: 50px\n",
      "  padding-top: 50px\n",
      "  margin: auto\n",
      "\n",
      ".pulsebutton\n",
      "  border-radius: 50%\n",
      "  border: 4px solid\n",
      "  border-color: #2da372\n",
      "  background-color: #1a1a1a\n",
      "  height: 50px\n",
      "  width: 50px\n",
      "  padding: 0\n",
      "  outline: none\n",
      "  transition: all 1.2s ease-in\n",
      "\n",
      ".pulsebutton:hover\n",
      "  box-shadow: inset 0 0 0px 25px #2da372\n",
      "  transition: all 1.2s linear\n",
      "\n",
      "\n"
     ]
    }
   ],
   "source": [
    "import subprocess\n",
    "filepath = \"/Users/mehmetburaksayici/Desktop/sahibinden/ccrraawwll/crawlingbutton/2023-aqua-button-pure-css/aqua-button-pure-css/src/index.html\"\n",
    "cssfilepath = \"/Users/mehmetburaksayici/Desktop/sahibinden/ccrraawwll/crawlingbutton/hover-intent-like-button/css/style.css\"\n",
    "\n",
    "\n",
    "def html2jade(filepath):\n",
    "    return subprocess.getoutput(f\"\"\"cat {filepath} | html2jade - \"\"\")\n",
    "\n",
    "\n",
    "def css2stylus(filepath):\n",
    "    return subprocess.getoutput(f\"\"\"stylus --css < {filepath} \"\"\")\n",
    "\n",
    "\n",
    "\n",
    "print(css2stylus(cssfilepath))\n",
    "\n"
   ]
  },
  {
   "cell_type": "code",
   "execution_count": 58,
   "id": "4d2e2a60",
   "metadata": {},
   "outputs": [
    {
     "data": {
      "text/plain": [
       "\"html\\n  body\\n    main#app\\n      h1 Aqua Buttons\\n      |   \\n      .static\\n        button\\n          span\\n            | Aqua button\\n          |       \\n          svg(viewbox='0 0 22 22', stroke-width='2', stroke='currentColor', fill='none', stroke-linecap='round', stroke-linejoin='round')\\n            path(stroke='none', d='M0 0h24v24H0z', fill='none')\\n            |         \\n            line(x1='5', y1='12', x2='19', y2='12')\\n            |         \\n            line(x1='15', y1='16', x2='19', y2='12')\\n            |         \\n            line(x1='15', y1='8', x2='19', y2='12')\\n          |       \\n          svg.spinner(width='24', height='24', viewbox='0 0 24 24', xmlns='http://www.w3.org/2000/svg')\\n            path(d='M10.14,1.16a11,11,0,0,0-9,8.92A1.59,1.59,0,0,0,2.46,12,1.52,1.52,0,0,0,4.11,10.7a8,8,0,0,1,6.66-6.61A1.42,1.42,0,0,0,12,2.69h0A1.57,1.57,0,0,0,10.14,1.16Z')\\n        |     \\n        input#blur(type='range', min='0', max='10', value='0', step='0.2')\\n      |   \\n      .custom\\n        button\\n          span\\n            | Random color\\n          |       \\n          svg(viewbox='0 0 24 24', stroke-width='2', stroke='currentColor', fill='none', stroke-linecap='round', stroke-linejoin='round')\\n            path(stroke='none', d='M0 0h24v24H0z', fill='none')\\n            |         \\n            path(d='M12 21a9 9 0 0 1 0 -18c4.97 0 9 3.582 9 8c0 1.06 -.474 2.078 -1.318 2.828c-.844 .75 -1.989 1.172 -3.182 1.172h-2.5a2 2 0 0 0 -1 3.75a1.3 1.3 0 0 1 -1 2.25')\\n            |         \\n            circle(cx='8.5', cy='10.5', r='1')\\n            |         \\n            circle(cx='12.5', cy='7.5', r='1')\\n            |         \\n            circle(cx='16.5', cy='10.5', r='1')\\n        |     \\n        input#hue1(type='range', min='0', max='360', value='30')\\n        |     \\n        input#sat1(type='range', min='0', max='100', value='50')\\n        |     \\n        input#hue2(type='range', min='0', max='360', value='5')\\n        |     \\n        input#sat2(type='range', min='0', max='100', value='80')\\n        |     \\n        input#grad(type='range', orient='vertical', min='10', max='40', value='30')\\n        |     \\n        input#gradoff(type='range', orient='vertical', min='20', max='120', value='50')\\n      |   \\n      p\\n        | design inspiration from \\n        a(href='https://twitter.com/alazybrick/status/1600191967907938320') @alazybrick on Twitter\""
      ]
     },
     "execution_count": 58,
     "metadata": {},
     "output_type": "execute_result"
    }
   ],
   "source": [
    "result"
   ]
  },
  {
   "cell_type": "code",
   "execution_count": 59,
   "id": "92eafbf3",
   "metadata": {},
   "outputs": [],
   "source": [
    "\n",
    "from urllib.request import urlopen\n",
    "  \n",
    "# import json\n",
    "import json\n",
    "# store the URL in url as \n",
    "# parameter for urlopen\n",
    "url = \"https://raw.githubusercontent.com/sindresorhus/html-tags/main/html-tags.json\"\n",
    "  \n",
    "# store the response of URL\n",
    "response = urlopen(url)\n",
    "  \n",
    "# storing the JSON response \n",
    "# from url in data\n",
    "data_json = json.loads(response.read())\n",
    "\n",
    "\n",
    "\n",
    "  \n",
    "html_tokens = []\n",
    "\n",
    "for i in data_json:\n",
    "    html_tokens.append(f\"<{i}>\")\n",
    "    html_tokens.append(f\"</{i}>\")\n",
    "    html_tokens.append(f\"<{i}\")\n",
    "\n",
    "\n",
    "\n"
   ]
  },
  {
   "cell_type": "code",
   "execution_count": 60,
   "id": "dc94e0f3",
   "metadata": {},
   "outputs": [],
   "source": [
    "# html attributes"
   ]
  },
  {
   "cell_type": "code",
   "execution_count": 61,
   "id": "9f97d5e4",
   "metadata": {},
   "outputs": [],
   "source": [
    "\n",
    "from urllib.request import urlopen\n",
    "  \n",
    "# import json\n",
    "import json\n",
    "# store the URL in url as \n",
    "# parameter for urlopen\n",
    "url = \"https://raw.githubusercontent.com/decal/werdlists/master/html-words/html-attributes-list.txt\"\n",
    "  \n",
    "# store the response of URL\n",
    "import pandas as pd \n",
    "import io   \n",
    "\n",
    "response = urlopen(url)\n",
    "\n",
    "\n",
    "df = pd.read_csv(io.StringIO(response.read().decode(\"utf-8\")), sep=\"\t\",skiprows=1)\n",
    "html_attributes = df[\"# Attribute\"].values.tolist()\n",
    "\n"
   ]
  },
  {
   "cell_type": "code",
   "execution_count": 62,
   "id": "31719dfe",
   "metadata": {},
   "outputs": [
    {
     "name": "stdout",
     "output_type": "stream",
     "text": [
      "\n",
      "\n",
      "\n"
     ]
    },
    {
     "data": {
      "text/plain": [
       "BertTokenizerFast(name_or_path='bert-base-cased', vocab_size=8661, model_max_length=512, is_fast=True, padding_side='right', truncation_side='right', special_tokens={'unk_token': '[UNK]', 'sep_token': '[SEP]', 'pad_token': '[PAD]', 'cls_token': '[CLS]', 'mask_token': '[MASK]', 'additional_special_tokens': ['[UNK]', '[CLS]', '[SEP]', '[PAD]', '[MASK]', ' ---scss-start--- ', ' ---scss-end--- ', ' ---css-start--- ', ' ---css-end--- ', ' ---webpage-start--- ', ' ---webpage-end--- ', ' ---html-start--- ', ' ---html-end--- ', ' ---js-start--- ', ' ---js-end--- ']})"
      ]
     },
     "execution_count": 62,
     "metadata": {},
     "output_type": "execute_result"
    }
   ],
   "source": [
    "\n",
    "from transformers import AutoTokenizer\n",
    "\n",
    "tokenizer = AutoTokenizer.from_pretrained(\"bert-base-cased\")\n",
    "\n",
    "\n",
    "\n",
    "special_tokens_dict = {'additional_special_tokens': [\"[UNK]\", \"[CLS]\", \"[SEP]\", \"[PAD]\", \"[MASK]\",\n",
    "                                               \" ---scss-start--- \",\n",
    "                                               \" ---scss-end--- \",\n",
    "                                               \" ---css-start--- \",\n",
    "                                               \" ---css-end--- \",\n",
    "                                               \" ---webpage-start--- \",\n",
    "                                               \" ---webpage-end--- \",\n",
    "                                               \" ---html-start--- \",\n",
    "                                               \" ---html-end--- \",\n",
    "                                               \" ---js-start--- \",\n",
    "                                               \" ---js-end--- \"                                              \n",
    "                                              ]}\n",
    "\n",
    "\n",
    "tokenizer.add_special_tokens(special_tokens_dict)\n",
    "tokenizer.add_tokens(html_tokens)\n",
    "tokenizer.add_tokens(html_attributes)\n",
    "\n",
    "\n",
    "\n",
    "\"\"\"\n",
    "def get_training_corpus():\n",
    "    return (\n",
    "        ds[\"train\"][i][\"text\"]\n",
    "        for i in range(0, len(ds[\"train\"]), 1)\n",
    "    )\n",
    "\n",
    "\"\"\"\n",
    "def get_training_corpus():\n",
    "    yield text\n",
    "\n",
    "\n",
    "training_corpus = get_training_corpus()\n",
    "\n",
    "tokenizer.train_new_from_iterator(training_corpus, 53000)\n",
    "\n",
    "\n",
    "\n"
   ]
  },
  {
   "cell_type": "code",
   "execution_count": 63,
   "id": "1b798cd1",
   "metadata": {},
   "outputs": [
    {
     "data": {
      "text/plain": [
       "[' ---webpage-start--- ',\n",
       " ' ---html-start--- ',\n",
       " '<',\n",
       " '!',\n",
       " 'D',\n",
       " '##OC',\n",
       " '##TY',\n",
       " '##P',\n",
       " '##E',\n",
       " 'html',\n",
       " '>',\n",
       " '<html',\n",
       " 'lang',\n",
       " '=',\n",
       " '\"',\n",
       " 'en',\n",
       " '\"',\n",
       " '>',\n",
       " '<head>',\n",
       " '<meta',\n",
       " 'charset',\n",
       " '=',\n",
       " '\"',\n",
       " 'U',\n",
       " '##TF',\n",
       " '-',\n",
       " '8']"
      ]
     },
     "execution_count": 63,
     "metadata": {},
     "output_type": "execute_result"
    }
   ],
   "source": [
    "tokenizer.tokenize(text[:100])"
   ]
  },
  {
   "cell_type": "code",
   "execution_count": 66,
   "id": "04f3b004",
   "metadata": {},
   "outputs": [
    {
     "name": "stdout",
     "output_type": "stream",
     "text": [
      "huggingface/tokenizers: The current process just got forked, after parallelism has already been used. Disabling parallelism to avoid deadlocks...\n",
      "To disable this warning, you can either:\n",
      "\t- Avoid using `tokenizers` before the fork if possible\n",
      "\t- Explicitly set the environment variable TOKENIZERS_PARALLELISM=(true | false)\n",
      "Collecting pyjade\n",
      "  Downloading pyjade-4.0.0.tar.gz (29 kB)\n",
      "  Preparing metadata (setup.py) ... \u001b[?25ldone\n",
      "\u001b[?25hRequirement already satisfied: six in ./venv/lib/python3.8/site-packages (from pyjade) (1.16.0)\n",
      "Building wheels for collected packages: pyjade\n",
      "  Building wheel for pyjade (setup.py) ... \u001b[?25ldone\n",
      "\u001b[?25h  Created wheel for pyjade: filename=pyjade-4.0.0-py3-none-any.whl size=35478 sha256=21068966e5acd1e224e2e61b8e570a4b5ba4a68a41ba030f2450578d81cd55ba\n",
      "  Stored in directory: /Users/mehmetburaksayici/Library/Caches/pip/wheels/f7/77/78/f72aef6e396f4f310490e3f03ac47e2822a12eed5e8ab841ab\n",
      "Successfully built pyjade\n",
      "Installing collected packages: pyjade\n",
      "Successfully installed pyjade-4.0.0\n",
      "Note: you may need to restart the kernel to use updated packages.\n"
     ]
    }
   ],
   "source": [
    "pip install pyjade\n"
   ]
  },
  {
   "cell_type": "code",
   "execution_count": null,
   "id": "0af5e297",
   "metadata": {},
   "outputs": [],
   "source": []
  }
 ],
 "metadata": {
  "kernelspec": {
   "display_name": "Python 3 (ipykernel)",
   "language": "python",
   "name": "python3"
  },
  "language_info": {
   "codemirror_mode": {
    "name": "ipython",
    "version": 3
   },
   "file_extension": ".py",
   "mimetype": "text/x-python",
   "name": "python",
   "nbconvert_exporter": "python",
   "pygments_lexer": "ipython3",
   "version": "3.8.13"
  }
 },
 "nbformat": 4,
 "nbformat_minor": 5
}
