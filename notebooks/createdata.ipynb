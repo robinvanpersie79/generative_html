{
 "cells": [
  {
   "cell_type": "code",
   "execution_count": 7,
   "id": "b745892c",
   "metadata": {},
   "outputs": [
    {
     "name": "stdout",
     "output_type": "stream",
     "text": [
      "l\n"
     ]
    }
   ],
   "source": [
    "print(\"l\")"
   ]
  },
  {
   "cell_type": "code",
   "execution_count": 8,
   "id": "79d91ad6",
   "metadata": {},
   "outputs": [],
   "source": [
    "import os\n",
    "\n",
    "\n",
    "mainpath = \"crawlingbutton/\"\n",
    "basepath = os.getcwd()"
   ]
  },
  {
   "cell_type": "code",
   "execution_count": 9,
   "id": "71941447",
   "metadata": {},
   "outputs": [],
   "source": [
    "os.listdir(mainpath)\n",
    "\n",
    "alls = os.listdir(mainpath)\n",
    "alls = [mainpath +i for i in alls]\n",
    "\n",
    "alls  = list(filter(os.path.isdir, alls))\n",
    "\n",
    "folders = [os.path.join(basepath,i) for i in alls]"
   ]
  },
  {
   "cell_type": "code",
   "execution_count": 11,
   "id": "f3cbba4d",
   "metadata": {},
   "outputs": [
    {
     "data": {
      "text/plain": [
       "'/Users/mehmetburaksayici/Desktop/sahibinden/ccrraawwll/datasetbutton'"
      ]
     },
     "execution_count": 11,
     "metadata": {},
     "output_type": "execute_result"
    }
   ],
   "source": [
    "#os.mkdir(\"datasetbutton\")\n",
    "\n",
    "\n",
    "savepath = os.path.join(basepath, \"datasetbutton\")\n",
    "\n",
    "savepath"
   ]
  },
  {
   "cell_type": "code",
   "execution_count": 12,
   "id": "eeb5a310",
   "metadata": {},
   "outputs": [],
   "source": [
    "def returnstring(path):\n",
    "    string = \"\"\"\"\"\"\n",
    "    file1 = open(path, 'r')\n",
    "    Lines = file1.readlines()\n",
    "\n",
    "    count = 0\n",
    "    # Strips the newline character\n",
    "    for line in Lines:\n",
    "        count += 1\n",
    "        line = line.rstrip()\n",
    "        if line:\n",
    "            string += line.strip() + \" \"\n",
    "    return string\n"
   ]
  },
  {
   "cell_type": "code",
   "execution_count": 17,
   "id": "ba1304d7",
   "metadata": {},
   "outputs": [
    {
     "name": "stdout",
     "output_type": "stream",
     "text": [
      "/Users/mehmetburaksayici/Desktop/sahibinden/ccrraawwll/crawlingbutton/2023-animated-like-buttonpure-css/animated-like-buttonpure-css\n",
      "/Users/mehmetburaksayici/Desktop/sahibinden/ccrraawwll/crawlingbutton/2023-3d-challengekevin-powell/3d-challengekevin-powell\n",
      "/Users/mehmetburaksayici/Desktop/sahibinden/ccrraawwll/crawlingbutton/2023-pen-export-zYaZXLJ/pen-export-zYaZXLJ\n",
      "/Users/mehmetburaksayici/Desktop/sahibinden/ccrraawwll/crawlingbutton/2023-glowy-button/glowy-button\n",
      "/Users/mehmetburaksayici/Desktop/sahibinden/ccrraawwll/crawlingbutton/2023-3d-button-with-shading-experiment/3d-button-with-shading-experiment\n",
      "/Users/mehmetburaksayici/Desktop/sahibinden/ccrraawwll/crawlingbutton/2023-rubber-button/rubber-button\n",
      "/Users/mehmetburaksayici/Desktop/sahibinden/ccrraawwll/crawlingbutton/2023-arrow-buttons/arrow-buttons\n",
      "/Users/mehmetburaksayici/Desktop/sahibinden/ccrraawwll/crawlingbutton/2023-social-animation/social-animation\n",
      "/Users/mehmetburaksayici/Desktop/sahibinden/ccrraawwll/crawlingbutton/2023-multi-step-growing-button-css-only-cpc/multi-step-growing-button-css-only-cpc\n",
      "/Users/mehmetburaksayici/Desktop/sahibinden/ccrraawwll/crawlingbutton/like-and-favorite-buttons/css\n",
      "[Errno 2] No such file or directory: '/Users/mehmetburaksayici/Desktop/sahibinden/ccrraawwll/crawlingbutton/like-and-favorite-buttons/css/dist'\n",
      "/Users/mehmetburaksayici/Desktop/sahibinden/ccrraawwll/crawlingbutton/2023-microinteractions-1/microinteractions-1\n",
      "/Users/mehmetburaksayici/Desktop/sahibinden/ccrraawwll/crawlingbutton/2023-pen-export-KKXRdgE/pen-export-KKXRdgE\n",
      "/Users/mehmetburaksayici/Desktop/sahibinden/ccrraawwll/crawlingbutton/2023-social-media-icon-5/social-media-icon-5\n",
      "/Users/mehmetburaksayici/Desktop/sahibinden/ccrraawwll/crawlingbutton/2023-css-only-3d-perspective-button/css-only-3d-perspective-button\n",
      "/Users/mehmetburaksayici/Desktop/sahibinden/ccrraawwll/crawlingbutton/2023-3-techniques-in-1-pen-candy-ghost-buttons/3-techniques-in-1-pen-candy-ghost-buttons\n",
      "/Users/mehmetburaksayici/Desktop/sahibinden/ccrraawwll/crawlingbutton/2023-parlor-bubble/parlor-bubble\n",
      "/Users/mehmetburaksayici/Desktop/sahibinden/ccrraawwll/crawlingbutton/2023-css-only-sliding-button/css-only-sliding-button\n",
      "/Users/mehmetburaksayici/Desktop/sahibinden/ccrraawwll/crawlingbutton/2023-spacy-button/spacy-button\n",
      "/Users/mehmetburaksayici/Desktop/sahibinden/ccrraawwll/crawlingbutton/play-button-4/css\n",
      "[Errno 2] No such file or directory: '/Users/mehmetburaksayici/Desktop/sahibinden/ccrraawwll/crawlingbutton/play-button-4/css/dist'\n",
      "/Users/mehmetburaksayici/Desktop/sahibinden/ccrraawwll/crawlingbutton/2023-button-hover-liquid-animation/button-hover-liquid-animation\n",
      "/Users/mehmetburaksayici/Desktop/sahibinden/ccrraawwll/crawlingbutton/2023-button-hover-effects/button-hover-effects\n",
      "/Users/mehmetburaksayici/Desktop/sahibinden/ccrraawwll/crawlingbutton/2023-collision-buttons/collision-buttons\n",
      "/Users/mehmetburaksayici/Desktop/sahibinden/ccrraawwll/crawlingbutton/2023-buttons-css/buttons-css\n",
      "/Users/mehmetburaksayici/Desktop/sahibinden/ccrraawwll/crawlingbutton/2023-throwing-shapes/throwing-shapes\n",
      "/Users/mehmetburaksayici/Desktop/sahibinden/ccrraawwll/crawlingbutton/2023-button-animation/button-animation\n",
      "/Users/mehmetburaksayici/Desktop/sahibinden/ccrraawwll/crawlingbutton/2023-no-sprite-no-js-heart-animationclick-it/no-sprite-no-js-heart-animationclick-it\n",
      "/Users/mehmetburaksayici/Desktop/sahibinden/ccrraawwll/crawlingbutton/2023-pen-export-YzEqOwe/pen-export-YzEqOwe\n",
      "/Users/mehmetburaksayici/Desktop/sahibinden/ccrraawwll/crawlingbutton/2023-material-more-button-css/material-more-button-css\n",
      "/Users/mehmetburaksayici/Desktop/sahibinden/ccrraawwll/crawlingbutton/like-animation-jumpy-hearts/css\n",
      "[Errno 2] No such file or directory: '/Users/mehmetburaksayici/Desktop/sahibinden/ccrraawwll/crawlingbutton/like-animation-jumpy-hearts/css/dist'\n",
      "/Users/mehmetburaksayici/Desktop/sahibinden/ccrraawwll/crawlingbutton/2023-fancy-buttons-with-long-shadow/fancy-buttons-with-long-shadow\n",
      "/Users/mehmetburaksayici/Desktop/sahibinden/ccrraawwll/crawlingbutton/2023-fancy-border-style-button/fancy-border-style-button\n",
      "/Users/mehmetburaksayici/Desktop/sahibinden/ccrraawwll/crawlingbutton/2023-flickering-neon-button/flickering-neon-button\n",
      "/Users/mehmetburaksayici/Desktop/sahibinden/ccrraawwll/crawlingbutton/2023-minimal-button-with-amazing-hover-effects/minimal-button-with-amazing-hover-effects\n",
      "/Users/mehmetburaksayici/Desktop/sahibinden/ccrraawwll/crawlingbutton/2023-play-button-animation/play-button-animation\n",
      "/Users/mehmetburaksayici/Desktop/sahibinden/ccrraawwll/crawlingbutton/2023-cut-corner-cool-button/cut-corner-cool-button\n",
      "/Users/mehmetburaksayici/Desktop/sahibinden/ccrraawwll/crawlingbutton/2023-send/send\n",
      "/Users/mehmetburaksayici/Desktop/sahibinden/ccrraawwll/crawlingbutton/youtube-play-pause-button/css\n",
      "[Errno 2] No such file or directory: '/Users/mehmetburaksayici/Desktop/sahibinden/ccrraawwll/crawlingbutton/youtube-play-pause-button/css/dist'\n",
      "/Users/mehmetburaksayici/Desktop/sahibinden/ccrraawwll/crawlingbutton/2023-shimmer-button/shimmer-button\n",
      "/Users/mehmetburaksayici/Desktop/sahibinden/ccrraawwll/crawlingbutton/2023-codevember-4-2021-soft-buttons-hover-focus-and-presskeep-pressed-release-click-fast-play-with-it/codevember-4-2021-soft-buttons-hover-focus-and-presskeep-pressed-release-click-fast-play-with-it\n",
      "/Users/mehmetburaksayici/Desktop/sahibinden/ccrraawwll/crawlingbutton/2022-button-glow/button-glow\n",
      "/Users/mehmetburaksayici/Desktop/sahibinden/ccrraawwll/crawlingbutton/2023-aqua-button-pure-css/aqua-button-pure-css\n",
      "/Users/mehmetburaksayici/Desktop/sahibinden/ccrraawwll/crawlingbutton/2023-hover-for-fun/hover-for-fun\n",
      "/Users/mehmetburaksayici/Desktop/sahibinden/ccrraawwll/crawlingbutton/twitter-like-button-in-html5-svg-css3-animations/css\n",
      "[Errno 2] No such file or directory: '/Users/mehmetburaksayici/Desktop/sahibinden/ccrraawwll/crawlingbutton/twitter-like-button-in-html5-svg-css3-animations/css/dist'\n",
      "/Users/mehmetburaksayici/Desktop/sahibinden/ccrraawwll/crawlingbutton/2023-wavy/wavy\n",
      "/Users/mehmetburaksayici/Desktop/sahibinden/ccrraawwll/crawlingbutton/2023-grid-template-links/grid-template-links\n",
      "/Users/mehmetburaksayici/Desktop/sahibinden/ccrraawwll/crawlingbutton/2023-rotating-links-buttons-with-text-placed-on-a-circular-path/rotating-links-buttons-with-text-placed-on-a-circular-path\n",
      "/Users/mehmetburaksayici/Desktop/sahibinden/ccrraawwll/crawlingbutton/button-animation-experiment-dribbble/css\n",
      "[Errno 2] No such file or directory: '/Users/mehmetburaksayici/Desktop/sahibinden/ccrraawwll/crawlingbutton/button-animation-experiment-dribbble/css/dist'\n",
      "/Users/mehmetburaksayici/Desktop/sahibinden/ccrraawwll/crawlingbutton/2023-rainbow-button-animations/rainbow-button-animations\n",
      "/Users/mehmetburaksayici/Desktop/sahibinden/ccrraawwll/crawlingbutton/2023-button-hover-state-border-radius-fun/button-hover-state-border-radius-fun\n",
      "/Users/mehmetburaksayici/Desktop/sahibinden/ccrraawwll/crawlingbutton/colorful-css-buttons/css\n",
      "[Errno 2] No such file or directory: '/Users/mehmetburaksayici/Desktop/sahibinden/ccrraawwll/crawlingbutton/colorful-css-buttons/css/dist'\n",
      "/Users/mehmetburaksayici/Desktop/sahibinden/ccrraawwll/crawlingbutton/2023-pen-export-oNyNbNO/pen-export-oNyNbNO\n",
      "/Users/mehmetburaksayici/Desktop/sahibinden/ccrraawwll/crawlingbutton/2023-neon-glass-button/neon-glass-button\n",
      "/Users/mehmetburaksayici/Desktop/sahibinden/ccrraawwll/crawlingbutton/2023-css3-glass-buttons-v2/css3-glass-buttons-v2\n",
      "/Users/mehmetburaksayici/Desktop/sahibinden/ccrraawwll/crawlingbutton/2023-power-button-w-animated-icon/power-button-w-animated-icon\n",
      "/Users/mehmetburaksayici/Desktop/sahibinden/ccrraawwll/crawlingbutton/2023-css-button-background-position/css-button-background-position\n",
      "/Users/mehmetburaksayici/Desktop/sahibinden/ccrraawwll/crawlingbutton/2023-perspective-hover-icons/perspective-hover-icons\n",
      "/Users/mehmetburaksayici/Desktop/sahibinden/ccrraawwll/crawlingbutton/css-favourite-button/css\n",
      "[Errno 2] No such file or directory: '/Users/mehmetburaksayici/Desktop/sahibinden/ccrraawwll/crawlingbutton/css-favourite-button/css/dist'\n",
      "/Users/mehmetburaksayici/Desktop/sahibinden/ccrraawwll/crawlingbutton/2023-pen-export-mdKwwNG/pen-export-mdKwwNG\n",
      "/Users/mehmetburaksayici/Desktop/sahibinden/ccrraawwll/crawlingbutton/2023-css-cyberpunk-buttons-hover-to-glitch/css-cyberpunk-buttons-hover-to-glitch\n",
      "/Users/mehmetburaksayici/Desktop/sahibinden/ccrraawwll/crawlingbutton/2023-play-button-animation-2/play-button-animation\n",
      "/Users/mehmetburaksayici/Desktop/sahibinden/ccrraawwll/crawlingbutton/2023-smooth-filling-button-hover-animation/smooth-filling-button-hover-animation\n",
      "/Users/mehmetburaksayici/Desktop/sahibinden/ccrraawwll/crawlingbutton/2023-reflective-neon-button/reflective-neon-button\n",
      "/Users/mehmetburaksayici/Desktop/sahibinden/ccrraawwll/crawlingbutton/2023-glitchy-cyberpunk-button/glitchy-cyberpunk-button\n",
      "/Users/mehmetburaksayici/Desktop/sahibinden/ccrraawwll/crawlingbutton/2023-yes-no-slanted-button-with-cool-hover-effect/yes-no-slanted-button-with-cool-hover-effect\n",
      "/Users/mehmetburaksayici/Desktop/sahibinden/ccrraawwll/crawlingbutton/2023-simple-rotating-play-icon/simple-rotating-play-icon\n",
      "/Users/mehmetburaksayici/Desktop/sahibinden/ccrraawwll/crawlingbutton/2023-button-hover-effect/button-hover-effect\n",
      "/Users/mehmetburaksayici/Desktop/sahibinden/ccrraawwll/crawlingbutton/contact-button/css\n",
      "[Errno 2] No such file or directory: '/Users/mehmetburaksayici/Desktop/sahibinden/ccrraawwll/crawlingbutton/contact-button/css/dist'\n",
      "/Users/mehmetburaksayici/Desktop/sahibinden/ccrraawwll/crawlingbutton/2023-neon-y-elements/neon-y-elements\n",
      "/Users/mehmetburaksayici/Desktop/sahibinden/ccrraawwll/crawlingbutton/2023-pure-css-close-button/pure-css-close-button\n",
      "/Users/mehmetburaksayici/Desktop/sahibinden/ccrraawwll/crawlingbutton/2023-neon-button/neon-button\n",
      "/Users/mehmetburaksayici/Desktop/sahibinden/ccrraawwll/crawlingbutton/interactive-splat-like-button/css\n",
      "[Errno 2] No such file or directory: '/Users/mehmetburaksayici/Desktop/sahibinden/ccrraawwll/crawlingbutton/interactive-splat-like-button/css/dist'\n",
      "/Users/mehmetburaksayici/Desktop/sahibinden/ccrraawwll/crawlingbutton/2023-animated-button-with-masked-border-speedycsstips/animated-button-with-masked-border-speedycsstips\n",
      "/Users/mehmetburaksayici/Desktop/sahibinden/ccrraawwll/crawlingbutton/2023-sparkly-shiny-text/sparkly-shiny-text\n",
      "/Users/mehmetburaksayici/Desktop/sahibinden/ccrraawwll/crawlingbutton/2023-playing-with-temani-s-css-only-back-to-top-button/playing-with-temani-s-css-only-back-to-top-button\n",
      "/Users/mehmetburaksayici/Desktop/sahibinden/ccrraawwll/crawlingbutton/2023-day-30-today-we-going-to-design-a-button-with-an-awesome-hover-effect/day-30-today-we-going-to-design-a-button-with-an-awesome-hover-effect\n",
      "/Users/mehmetburaksayici/Desktop/sahibinden/ccrraawwll/crawlingbutton/2023-pill-buttons-animation/pill-buttons-animation\n",
      "/Users/mehmetburaksayici/Desktop/sahibinden/ccrraawwll/crawlingbutton/2023-svg-play-buttons/svg-play-buttons\n",
      "/Users/mehmetburaksayici/Desktop/sahibinden/ccrraawwll/crawlingbutton/stripe-button/css\n",
      "[Errno 2] No such file or directory: '/Users/mehmetburaksayici/Desktop/sahibinden/ccrraawwll/crawlingbutton/stripe-button/css/dist'\n",
      "/Users/mehmetburaksayici/Desktop/sahibinden/ccrraawwll/crawlingbutton/2023-simple-minimal-neumorphic-buttons/simple-minimal-neumorphic-buttons\n",
      "/Users/mehmetburaksayici/Desktop/sahibinden/ccrraawwll/crawlingbutton/2023-css-glassmorphism-button-hover-effects-glass-morphism/css-glassmorphism-button-hover-effects-glass-morphism\n",
      "/Users/mehmetburaksayici/Desktop/sahibinden/ccrraawwll/crawlingbutton/2023-useful-responsive-customizable-buttons-that-s-all/useful-responsive-customizable-buttons-that-s-all\n",
      "/Users/mehmetburaksayici/Desktop/sahibinden/ccrraawwll/crawlingbutton/2023-slanted-wavy-button-with-cool-hover-effect/slanted-wavy-button-with-cool-hover-effect\n",
      "/Users/mehmetburaksayici/Desktop/sahibinden/ccrraawwll/crawlingbutton/pure-css-menu-icon-close/css\n",
      "[Errno 2] No such file or directory: '/Users/mehmetburaksayici/Desktop/sahibinden/ccrraawwll/crawlingbutton/pure-css-menu-icon-close/css/dist'\n",
      "/Users/mehmetburaksayici/Desktop/sahibinden/ccrraawwll/crawlingbutton/2023-neon-button-animation-ui/neon-button-animation-ui\n",
      "/Users/mehmetburaksayici/Desktop/sahibinden/ccrraawwll/crawlingbutton/2023-pure-css-floating-action-button/pure-css-floating-action-button\n",
      "/Users/mehmetburaksayici/Desktop/sahibinden/ccrraawwll/crawlingbutton/hover-intent-like-button/css\n",
      "[Errno 2] No such file or directory: '/Users/mehmetburaksayici/Desktop/sahibinden/ccrraawwll/crawlingbutton/hover-intent-like-button/css/dist'\n",
      "/Users/mehmetburaksayici/Desktop/sahibinden/ccrraawwll/crawlingbutton/2023-erase-icon-conceptpure-css/erase-icon-conceptpure-css\n",
      "0\n"
     ]
    }
   ],
   "source": [
    "import shutil\n",
    "\n",
    "\n",
    "\n",
    "i = 0\n",
    "for ff in folders:\n",
    "    try:\n",
    "\n",
    "        files = os.listdir(ff)\n",
    "        nestfolder =   list(filter(os.path.isdir, [os.path.join(ff, f) for f in os.listdir(ff)]))[0]\n",
    "        print(nestfolder)\n",
    "        files = os.listdir(nestfolder+\"/dist\")\n",
    "\n",
    "        html_name = [i for i in files if \"html\" in i]\n",
    "        if bool(html_name):\n",
    "            html_name = html_name[0]\n",
    "            htmlpath = os.path.join(ff,html_name)\n",
    "            if os.path.exists(htmlpath):\n",
    "\n",
    "                text_ = \"\"\"\"\"\"\n",
    "                text_ += \"\"\" ---webpage-start--- \"\"\"\n",
    "\n",
    "                html_ = \"\"\"\"\"\"\n",
    "                html_ += \" ---html-start--- \"\n",
    "                #html_ += f\" ---{html_name}--- \"\n",
    "                html_ += returnstring(htmlpath)\n",
    "                html_ += \" ---html-end--- \"\n",
    "                text_+= html_\n",
    "\n",
    "\n",
    "                if \"css\" in files:\n",
    "                    css_str = \"\"\"\"\"\"\n",
    "\n",
    "                    csses = [i for i in os.listdir(os.path.join(ff,\"css\")) if \"css\" in i]\n",
    "                    for css_ in csses:\n",
    "\n",
    "                        os.path.join(ff,css_)\n",
    "                        #css_str += \" ---css-start--- \"\n",
    "                        css_str += f\" ---{css_}--- \"\n",
    "                        css_str += returnstring(os.path.join(ff,\"css\",css_))\n",
    "                        css_str += \" ---css-end--- \"\n",
    "                    text_+= css_str\n",
    "\n",
    "                if \"js\" in files:\n",
    "                    js_str = \"\"\"\"\"\"\n",
    "                    htmlpath = os.path.join(ff,\"index.html\")\n",
    "                    jses = [i for i in os.listdir(os.path.join(ff,\"js\")) if \"js\" in i]\n",
    "                    for js_ in jses:\n",
    "\n",
    "                        os.path.join(ff,js_)\n",
    "                        js_str += \" ---js-start--- \"\n",
    "                        #js_str += f\" ---{js_}--- \"\n",
    "                        js_str += returnstring(os.path.join(ff,\"js\",js_))\n",
    "                        js_str += \" ---js-end--- \"\n",
    "                    text_+= js_str\n",
    "\n",
    "                if \"scss\" in files:\n",
    "                    scss_str = \"\"\"\"\"\"\n",
    "                    htmlpath = os.path.join(ff,\"index.html\")\n",
    "                    scsses = [i for i in os.listdir(os.path.join(ff,\"scss\")) if \"scss\" in i]\n",
    "                    for scss_ in scsses:\n",
    "\n",
    "                        os.path.join(ff,scss_)\n",
    "                        scss_str += \" ---scss-start--- \"\n",
    "                        #scss_str += f\" ---{scss_}--- \"\n",
    "                        scss_str += returnstring(os.path.join(ff,\"scss\",scss_))\n",
    "                        scss_str += \" ---scss-end--- \"\n",
    "\n",
    "                    text_+= scss_str\n",
    "\n",
    "                text_ += \"\"\" ---webpage-end--- \"\"\"\n",
    "\n",
    "                name_ = os.path.join(savepath,str(i)+\".txt\")\n",
    "                with open(name_, 'w') as f:\n",
    "                    f.write(text_)\n",
    "\n",
    "\n",
    "\n",
    "                import shutil\n",
    "\n",
    "                shutil.copyfile(os.path.join(ff,\"image.png\"), os.path.join(savepath,f\"{i}.png\"))\n",
    "                print(i,\":\",ff)\n",
    "                i+=1\n",
    "\n",
    "    except Exception as exc:\n",
    "        print(exc)\n",
    "        pass\n",
    "        \n",
    "print(i)"
   ]
  },
  {
   "cell_type": "code",
   "execution_count": 92,
   "id": "4b5fe21f",
   "metadata": {},
   "outputs": [],
   "source": [
    "files = [savepath+ \"/\"+i for i in os.listdir(savepath) if \"txt\" in i]"
   ]
  },
  {
   "cell_type": "code",
   "execution_count": 116,
   "id": "21860afc",
   "metadata": {},
   "outputs": [],
   "source": [
    "from tokenizers.trainers import BpeTrainer\n",
    "import tokenizers\n",
    "\n",
    "from tokenizers import Tokenizer\n",
    "from tokenizers.models import BPE\n",
    "\n",
    "tokenizer = Tokenizer(BPE())\n",
    "from tokenizers.pre_tokenizers import Whitespace\n",
    "\n",
    "tokenizer.pre_tokenizer = Whitespace()\n",
    "\n",
    "\n",
    "trainer = BpeTrainer(special_tokens=[\"[UNK]\", \"[CLS]\", \"[SEP]\", \"[PAD]\", \"[MASK]\",\n",
    "                                               \" ---scss-start--- \",\n",
    "                                               \" ---scss-end--- \",\n",
    "                                               \" ---css-start--- \",\n",
    "                                               \" ---css-end--- \",\n",
    "                                               \" ---webpage-start--- \",\n",
    "                                               \" ---webpage-end--- \",\n",
    "                                               \" ---html-start--- \",\n",
    "                                               \" ---html-end--- \",\n",
    "                                               \" ---js-start--- \",\n",
    "                                               \" ---js-end--- \"                                              \n",
    "                                              ])\n",
    "\n",
    "\n",
    "tokenizer.train(files=files, trainer=trainer)\n"
   ]
  },
  {
   "cell_type": "code",
   "execution_count": 117,
   "id": "95333886",
   "metadata": {},
   "outputs": [
    {
     "name": "stdout",
     "output_type": "stream",
     "text": [
      "\n",
      "\n",
      "\n"
     ]
    }
   ],
   "source": [
    "tokenizer.train(files=files, trainer=trainer)\n"
   ]
  },
  {
   "cell_type": "code",
   "execution_count": 118,
   "id": "b072f1e9",
   "metadata": {},
   "outputs": [
    {
     "name": "stdout",
     "output_type": "stream",
     "text": [
      "[' ---webpage-start--- ', ' ---html-start--- ', '---', 'index', '.', 'html', '---', '<!', 'DOCTYPE', 'html', '>', '<', 'html', '>', '<', 'head', '>', '<', 'meta', 'charset', '=\"', 'UTF', '-', '8', '\">', '<', 'title', '>', 'Bouncy', 'search', 'box', '</', 'title', '>', '<', 'meta', 'name', '=\"', 'viewport', '\"', 'content', '=\"', 'width', '=', 'device', '-', 'width', ',', 'initial', '-', 'scale', '=', '1', '\">', '<', 'link', 'href', \"='\", 'https', '://', 'fonts', '.', 'googleapis', '.', 'com', '/', 'css', '?', 'family', '=', 'Lato', \"'\", 'rel', \"='\", 'stylesheet', \"'\", 'type', \"='\", 'text', '/', 'css', \"'>\", '<', 'link', 'rel', \"='\", 'stylesheet', 'prefetch', \"'\", 'href', \"='\", 'http', '://', 'ajax', '.', 'googleapis', '.', 'com', '/', 'ajax', '/', 'libs', '/', 'jqueryui', '/', '1', '.', '11', '.', '2', '/', 'themes', '/', 'smoothness', '/', 'jquery', '-', 'ui', '.', 'css', \"'>\", '<', 'link', 'rel', '=\"', 'stylesheet', '\"', 'href', '=\"', 'css', '/', 'style', '.', 'css', '\">', '</', 'head', '>', '<', 'body', '>', '<', 'link', 'href', \"='//\", 'maxcdn', '.', 'bootstrapcdn', '.', 'com', '/', 'font', '-', 'awesome', '/', '4', '.', '3', '.', '0', '/', 'css', '/', 'font', '-', 'awesome', '.', 'min', '.', 'css', \"'\", 'rel', \"='\", 'stylesheet', \"'\", 'type', \"='\", 'text', '/', 'css', \"'>\", '<', 'div', 'class', \"='\", 'container', \"'>\", '<', 'h1', '>', 'Go', 'on', ',', 'click', 'me', '!</', 'h1', '>', '<', 'div', 'class', \"='\", 'search', '-', 'box', '-', 'container', \"'>\", '<', 'button', 'class', \"='\", 'submit', \"'>\", '<', 'i', 'class', \"='\", 'fa', 'fa', '-', 'search', \"'></\", 'i', '>', '</', 'button', '>', '<', 'input', 'class', \"='\", 'search', '-', 'box', \"'>\", '</', 'div', '>', '<', 'h3', 'class', \"='\", 'response', \"'></\", 'h3', '>', '</', 'div', '>', '<', 'script', 'src', \"='\", 'http', '://', 'cdnjs', '.', 'cloudflare', '.', 'com', '/', 'ajax', '/', 'libs', '/', 'jquery', '/', '2', '.', '1', '.', '3', '/', 'jquery', '.', 'min', '.', 'js', \"'></\", 'script', '>', '<', 'script', 'src', \"='\", 'http', '://', 'ajax', '.', 'googleapis', '.', 'com', '/', 'ajax', '/', 'libs', '/', 'jqueryui', '/', '1', '.', '11', '.', '2', '/', 'jquery', '-', 'ui', '.', 'min', '.', 'js', \"'></\", 'script', '>', '<', 'script', 'src', '=\"', 'js', '/', 'index', '.', 'js', '\"></', 'script', '>', '</', 'body', '>', '</', 'html', '>', ' ---html-end--- ', ' ---css-start--- ', '---', 'style', '.', 'css', '---', 'html', ',', 'body', '{', 'width', ':', '100', '%;', 'height', ':', '100', '%;', 'margin', ':', '0', ';', 'padding', ':', '0', ';', '}', 'body', '{', 'background', '-', 'color', ':', '#', 'ffecb3', ';', 'overflow', ':', 'hidden', ';', '}', '*', '{', 'box', '-', 'sizing', ':', 'border', '-', 'box', ';', '}', '.', 'container', '{', 'display', ':', 'block', ';', 'position', ':', 'absolute', ';', 'text', '-', 'align', ':', 'center', ';', 'width', ':', '100', '%;', 'top', ':', '50', '%;', 'padding', ':', '50px', '0', ';', '-', 'moz', '-', 'transform', ':', 'translateY', '(-', '50', '%);', '-', 'webkit', '-', 'transform', ':', 'translateY', '(-', '50', '%);', '-', 'o', '-', 'transform', ':', 'translateY', '(-', '50', '%);', '-', 'ms', '-', 'transform', ':', 'translateY', '(-', '50', '%);', 'transform', ':', 'translateY', '(-', '50', '%);', 'background', '-', 'color', ':', 'rgba', '(', '211', ',', '45', ',', '45', ',', '0', '.', '2', ');', '}', '.', 'container', ':', 'before', '{', 'content', ':', \"'';\", 'display', ':', 'block', ';', 'position', ':', 'absolute', ';', 'width', ':', '150', '%;', 'height', ':', '100', '%;', 'top', ':', '0', ';', 'left', ':', '-', '25', '%;', '-', 'moz', '-', 'transform', ':', 'rotate', '(-', '3deg', ');', '-', 'webkit', '-', 'transform', ':', 'rotate', '(-', '3deg', ');', '-', 'o', '-', 'transform', ':', 'rotate', '(-', '3deg', ');', '-', 'ms', '-', 'transform', ':', 'rotate', '(-', '3deg', ');', 'transform', ':', 'rotate', '(-', '3deg', ');', 'z', '-', 'index', ':', '-', '1', ';', 'background', '-', 'color', ':', 'rgba', '(', '244', ',', '67', ',', '54', ',', '0', '.', '15', ');', '}', 'h1', '{', 'font', '-', 'family', ':', '\"', 'Lato', '\";', 'font', '-', 'size', ':', '1', '.', '3em', ';', 'color', ':', '#', 'fff', ';', 'letter', '-', 'spacing', ':', '1px', ';', 'margin', '-', 'bottom', ':', '50px', ';', '}', 'h3', '{', 'display', ':', 'block', ';', 'height', ':', '19px', ';', 'margin', '-', 'top', ':', '30px', ';', 'font', '-', 'family', ':', '\"', 'Lato', '\";', 'font', '-', 'size', ':', '1em', ';', 'color', ':', '#', 'fff', ';', 'opacity', ':', '0', ';', '}', '.', 'search', '-', 'box', '-', 'container', '{', 'display', ':', 'inline', '-', 'block', ';', 'box', '-', 'sizing', ':', 'content', '-', 'box', ';', 'height', ':', '50px', ';', 'width', ':', '50px', ';', 'padding', ':', '0', ';', 'background', '-', 'color', ':', '#', 'fff', ';', 'border', ':', '3px', 'solid', '#', 'f44336', ';', 'border', '-', 'radius', ':', '28px', ';', 'overflow', ':', 'hidden', ';', '}', '.', 'search', '-', 'box', '-', 'container', '*', '{', 'display', ':', 'inline', '-', 'block', ';', 'margin', ':', '0', ';', 'height', ':', '100', '%;', 'padding', ':', '5px', ';', 'border', ':', '0', ';', 'outline', ':', 'none', ';', '}', '.', 'search', '-', 'box', '{', 'width', ':', 'calc', '(', '100', '%', '-', '50px', ');', 'padding', ':', '0', '20px', ';', 'float', ':', 'left', ';', 'font', '-', 'family', ':', '\"', 'Lato', '\";', 'font', '-', 'size', ':', '1em', ';', 'color', ':', '#', '212121', ';', 'background', '-', 'color', ':', '#', 'fff', ';', '}', '.', 'submit', '{', 'float', ':', 'right', ';', 'width', ':', '50px', ';', 'left', ':', '0', ';', 'top', ':', '0', ';', 'font', '-', 'size', ':', '1', '.', '2em', ';', 'text', '-', 'align', ':', 'center', ';', 'cursor', ':', 'pointer', ';', 'background', '-', 'color', ':', '#', 'fff', ';', '}', '.', 'fa', '{', 'display', ':', 'inline', '!', 'important', ';', 'line', '-', 'height', ':', '100', '%;', 'pointer', '-', 'event', ':', 'none', ';', 'color', ':', '#', 'd32f2f', ';', '}', ' ---css-end--- ', ' ---js-start--- ', '---', 'index', '.', 'js', '---', '$.', 'fn', '.', 'toggleState', '=', 'function', '(', 'b', ')', '{', '$(', 'this', ').', 'stop', '().', 'animate', '({', 'width', ':', 'b', '?', '\"', '300px', '\"', ':', '\"', '50px', '\"', '},', '600', ',', '\"', 'easeOutElastic', '\"', ');', '}', '$(', 'document', ').', 'ready', '(', 'function', '()', '{', 'var', 'container', '=', '$(\".', 'container', '\");', 'var', 'boxContainer', '=', '$(\".', 'search', '-', 'box', '-', 'container', '\");', 'var', 'submit', '=', '$(\".', 'submit', '\");', 'var', 'searchBox', '=', '$(\".', 'search', '-', 'box', '\");', 'var', 'response', '=', '$(\".', 'response', '\");', 'var', 'isOpen', '=', 'false', ';', 'submit', '.', 'on', '(\"', 'mousedown', '\",', 'function', '(', 'e', ')', '{', 'e', '.', 'preventDefault', '();', 'boxContainer', '.', 'toggleState', '(!', 'isOpen', ');', 'isOpen', '=', '!', 'isOpen', ';', 'if', '(!', 'isOpen', ')', '{', 'handleRequest', '();', '}', 'else', '{', 'searchBox', '.', 'focus', '();', '}', '});', 'searchBox', '.', 'keypress', '(', 'function', '(', 'e', ')', '{', 'if', '(', 'e', '.', 'which', '===', '13', ')', '{', 'boxContainer', '.', 'toggleState', '(', 'false', ');', 'isOpen', '=', 'false', ';', 'handleRequest', '();', '}', '});', 'searchBox', '.', 'blur', '(', 'function', '()', '{', 'boxContainer', '.', 'toggleState', '(', 'false', ');', 'isOpen', '=', 'false', ';', '});', 'function', 'handleRequest', '()', '{', '//', 'You', 'could', 'do', 'an', 'ajax', 'request', 'here', '...', 'var', 'value', '=', 'searchBox', '.', 'val', '();', 'searchBox', '.', 'val', \"('');\", 'if', '(', 'value', '.', 'length', '>', '0', ')', '{', 'response', '.', 'text', \"(('\", 'Searching', 'for', '\"\\'', '+', 'value', '+', '\\'\"', '.', '.', \".'));\", 'response', '.', 'animate', '({', 'opacity', ':', '1', '},', '300', ').', 'delay', '(', '2000', ').', 'animate', '({', 'opacity', ':', '0', '},', '300', ');', '}', '}', '});', ' ---js-end--- ', ' ---webpage-end--- ']\n"
     ]
    }
   ],
   "source": [
    "output = tokenizer.encode(text_)\n",
    "print(output.tokens)\n"
   ]
  },
  {
   "cell_type": "code",
   "execution_count": 120,
   "id": "e988b9e5",
   "metadata": {},
   "outputs": [
    {
     "data": {
      "text/plain": [
       "Encoding(num_tokens=1121, attributes=[ids, type_ids, tokens, offsets, attention_mask, special_tokens_mask, overflowing])"
      ]
     },
     "execution_count": 120,
     "metadata": {},
     "output_type": "execute_result"
    }
   ],
   "source": [
    "output"
   ]
  },
  {
   "cell_type": "code",
   "execution_count": 125,
   "id": "bba3f234",
   "metadata": {},
   "outputs": [
    {
     "name": "stderr",
     "output_type": "stream",
     "text": [
      "ERROR\tSelector: Unexpected CHAR. [1:2: -]\n",
      "ERROR\tSelector: Unexpected CHAR. [1:19: -]\n",
      "ERROR\tSelectorList: Invalid Selector: ---css-start---  ---style.css--- html\n",
      "WARNING\tProperty: Unknown Property name. [1:293: -moz-transform]\n",
      "WARNING\tProperty: Unknown Property name. [1:327: -webkit-transform]\n",
      "WARNING\tProperty: Unknown Property name. [1:364: -o-transform]\n",
      "WARNING\tProperty: Unknown Property name. [1:396: -ms-transform]\n",
      "WARNING\tProperty: Unknown Property name. [1:429: transform]\n",
      "WARNING\tProperty: Unknown Property name. [1:615: -moz-transform]\n",
      "WARNING\tProperty: Unknown Property name. [1:646: -webkit-transform]\n",
      "WARNING\tProperty: Unknown Property name. [1:680: -o-transform]\n",
      "WARNING\tProperty: Unknown Property name. [1:709: -ms-transform]\n",
      "WARNING\tProperty: Unknown Property name. [1:739: transform]\n",
      "ERROR\tProperty: Invalid value for \"CSS Level 2.1\" property: calc(100% - 50px) [1:1371: width]\n",
      "WARNING\tProperty: Unknown Property name. [1:1694: pointer-event]\n",
      "ERROR\tCSSStyleRule: No start { of style declaration found: '---css-end--- ' [1:1748: ]\n",
      "ERROR\tSelector: Unexpected CHAR. [1:1734: -]\n",
      "ERROR\tSelectorList: Invalid Selector: ---css-end--- \n",
      "ERROR\tCSSStyleRule: No style declaration or \"}\" found: '---css-end--- '\n"
     ]
    },
    {
     "name": "stdout",
     "output_type": "stream",
     "text": [
      "body\n",
      "background-color #ffecb3\n",
      "overflow hidden\n",
      "*\n",
      "box-sizing border-box\n",
      ".container\n",
      "display block\n",
      "position absolute\n",
      "text-align center\n",
      "width 100%\n",
      "top 50%\n",
      "padding 50px 0\n",
      "-moz-transform translatey(-50%)\n",
      "-webkit-transform translatey(-50%)\n",
      "-o-transform translatey(-50%)\n",
      "-ms-transform translatey(-50%)\n",
      "transform translatey(-50%)\n",
      "background-color rgba(211, 45, 45, 0.2)\n",
      ".container:before\n",
      "content \"\"\n",
      "display block\n",
      "position absolute\n",
      "width 150%\n",
      "height 100%\n",
      "top 0\n",
      "left -25%\n",
      "-moz-transform rotate(-3deg)\n",
      "-webkit-transform rotate(-3deg)\n",
      "-o-transform rotate(-3deg)\n",
      "-ms-transform rotate(-3deg)\n",
      "transform rotate(-3deg)\n",
      "z-index -1\n",
      "background-color rgba(244, 67, 54, 0.15)\n",
      "h1\n",
      "font-family \"Lato\"\n",
      "font-size 1.3em\n",
      "color #fff\n",
      "letter-spacing 1px\n",
      "margin-bottom 50px\n",
      "h3\n",
      "display block\n",
      "height 19px\n",
      "margin-top 30px\n",
      "font-family \"Lato\"\n",
      "font-size 1em\n",
      "color #fff\n",
      "opacity 0\n",
      ".search-box-container\n",
      "display inline-block\n",
      "box-sizing content-box\n",
      "height 50px\n",
      "width 50px\n",
      "padding 0\n",
      "background-color #fff\n",
      "border 3px solid #f44336\n",
      "border-radius 28px\n",
      "overflow hidden\n",
      ".search-box-container *\n",
      "display inline-block\n",
      "margin 0\n",
      "height 100%\n",
      "padding 5px\n",
      "border 0\n",
      "outline none\n",
      ".search-box\n",
      "width calc(100% - 50px)\n",
      "padding 0 20px\n",
      "float left\n",
      "font-family \"Lato\"\n",
      "font-size 1em\n",
      "color #212121\n",
      "background-color #fff\n",
      ".submit\n",
      "float right\n",
      "width 50px\n",
      "left 0\n",
      "top 0\n",
      "font-size 1.2em\n",
      "text-align center\n",
      "cursor pointer\n",
      "background-color #fff\n",
      ".fa\n",
      "display inline\n",
      "line-height 100%\n",
      "pointer-event none\n",
      "color #d32f2f\n"
     ]
    }
   ],
   "source": [
    "import cssutils\n",
    "\n",
    "css_code = \"\"\"\n",
    "h1 {\n",
    "    font-family: 'Helvetica Neue', Arial, sans-serif;\n",
    "    color: #333;\n",
    "}\n",
    "\"\"\"\n",
    "\n",
    "# Create a new CSSParser object\n",
    "parser = cssutils.CSSParser()\n",
    "\n",
    "# Parse the CSS code and create a stylesheet object\n",
    "sheet = parser.parseString(css_str)\n",
    "\n",
    "# Iterate through each rule in the stylesheet\n",
    "for rule in sheet:\n",
    "    # Print the selector text\n",
    "    print(rule.selectorText)\n",
    "\n",
    "    # Iterate through each property in the rule\n",
    "    for prop in rule.style:\n",
    "        # Print the property name and value\n",
    "        print(prop.name, prop.value)\n"
   ]
  },
  {
   "cell_type": "code",
   "execution_count": 122,
   "id": "bba742e4",
   "metadata": {},
   "outputs": [
    {
     "name": "stdout",
     "output_type": "stream",
     "text": [
      "huggingface/tokenizers: The current process just got forked, after parallelism has already been used. Disabling parallelism to avoid deadlocks...\n",
      "To disable this warning, you can either:\n",
      "\t- Avoid using `tokenizers` before the fork if possible\n",
      "\t- Explicitly set the environment variable TOKENIZERS_PARALLELISM=(true | false)\n",
      "Collecting cssutils\n",
      "  Downloading cssutils-2.6.0-py3-none-any.whl (399 kB)\n",
      "\u001b[2K     \u001b[90m━━━━━━━━━━━━━━━━━━━━━━━━━━━━━━━━━━━━━━━\u001b[0m \u001b[32m399.7/399.7 kB\u001b[0m \u001b[31m2.4 MB/s\u001b[0m eta \u001b[36m0:00:00\u001b[0ma \u001b[36m0:00:01\u001b[0m\n",
      "\u001b[?25hInstalling collected packages: cssutils\n",
      "Successfully installed cssutils-2.6.0\n"
     ]
    }
   ],
   "source": [
    "!pip install cssutils\n"
   ]
  },
  {
   "cell_type": "code",
   "execution_count": 124,
   "id": "f5f116dc",
   "metadata": {},
   "outputs": [
    {
     "data": {
      "text/plain": [
       "' ---css-start---  ---style.css--- html, body { width: 100%; height: 100%; margin: 0; padding: 0; } body { background-color: #ffecb3; overflow: hidden; } * { box-sizing: border-box; } .container { display: block; position: absolute; text-align: center; width: 100%; top: 50%; padding: 50px 0; -moz-transform: translateY(-50%); -webkit-transform: translateY(-50%); -o-transform: translateY(-50%); -ms-transform: translateY(-50%); transform: translateY(-50%); background-color: rgba(211,45,45,0.2); } .container:before { content: \\'\\'; display: block; position: absolute; width: 150%; height: 100%; top: 0; left: -25%; -moz-transform: rotate(-3deg); -webkit-transform: rotate(-3deg); -o-transform: rotate(-3deg); -ms-transform: rotate(-3deg); transform: rotate(-3deg); z-index: -1; background-color: rgba(244,67,54,0.15); } h1 { font-family: \"Lato\"; font-size: 1.3em; color: #fff; letter-spacing: 1px; margin-bottom: 50px; } h3 { display: block; height: 19px; margin-top: 30px; font-family: \"Lato\"; font-size: 1em; color: #fff; opacity: 0; } .search-box-container { display: inline-block; box-sizing: content-box; height: 50px; width: 50px; padding: 0; background-color: #fff; border: 3px solid #f44336; border-radius: 28px; overflow: hidden; } .search-box-container * { display: inline-block; margin: 0; height: 100%; padding: 5px; border: 0; outline: none; } .search-box { width: calc(100% - 50px); padding: 0 20px; float: left; font-family: \"Lato\"; font-size: 1em; color: #212121; background-color: #fff; } .submit { float: right; width: 50px; left: 0; top: 0; font-size: 1.2em; text-align: center; cursor: pointer; background-color: #fff; } .fa { display: inline !important; line-height: 100%; pointer-event: none; color: #d32f2f; }  ---css-end--- '"
      ]
     },
     "execution_count": 124,
     "metadata": {},
     "output_type": "execute_result"
    }
   ],
   "source": [
    "css_str"
   ]
  },
  {
   "cell_type": "code",
   "execution_count": null,
   "id": "4ed72661",
   "metadata": {},
   "outputs": [],
   "source": []
  }
 ],
 "metadata": {
  "kernelspec": {
   "display_name": "Python 3 (ipykernel)",
   "language": "python",
   "name": "python3"
  },
  "language_info": {
   "codemirror_mode": {
    "name": "ipython",
    "version": 3
   },
   "file_extension": ".py",
   "mimetype": "text/x-python",
   "name": "python",
   "nbconvert_exporter": "python",
   "pygments_lexer": "ipython3",
   "version": "3.8.13"
  }
 },
 "nbformat": 4,
 "nbformat_minor": 5
}
