{
 "cells": [
  {
   "cell_type": "code",
   "execution_count": 1,
   "id": "b745892c",
   "metadata": {},
   "outputs": [
    {
     "name": "stdout",
     "output_type": "stream",
     "text": [
      "l\n"
     ]
    }
   ],
   "source": [
    "print(\"l\")"
   ]
  },
  {
   "cell_type": "code",
   "execution_count": 2,
   "id": "79d91ad6",
   "metadata": {},
   "outputs": [],
   "source": [
    "import os\n",
    "\n",
    "\n",
    "mainpath = \"crawlingbutton/\"\n",
    "basepath = os.getcwd()"
   ]
  },
  {
   "cell_type": "code",
   "execution_count": 3,
   "id": "71941447",
   "metadata": {},
   "outputs": [],
   "source": [
    "os.listdir(mainpath)\n",
    "\n",
    "alls = os.listdir(mainpath)\n",
    "alls = [mainpath +i for i in alls]\n",
    "\n",
    "alls  = list(filter(os.path.isdir, alls))\n",
    "\n",
    "folders = [os.path.join(basepath,i) for i in alls]"
   ]
  },
  {
   "cell_type": "code",
   "execution_count": 4,
   "id": "f3cbba4d",
   "metadata": {},
   "outputs": [
    {
     "data": {
      "text/plain": [
       "'/Users/mehmetburaksayici/Desktop/sahibinden/ccrraawwll/datasetbutton'"
      ]
     },
     "execution_count": 4,
     "metadata": {},
     "output_type": "execute_result"
    }
   ],
   "source": [
    "#os.mkdir(\"datasetbutton\")\n",
    "\n",
    "\n",
    "savepath = os.path.join(basepath, \"datasetbutton\")\n",
    "\n",
    "savepath"
   ]
  },
  {
   "cell_type": "code",
   "execution_count": 5,
   "id": "eeb5a310",
   "metadata": {},
   "outputs": [],
   "source": [
    "def returnstring(path):\n",
    "    string = \"\"\"\"\"\"\n",
    "    file1 = open(path, 'r')\n",
    "    Lines = file1.readlines()\n",
    "\n",
    "    count = 0\n",
    "    # Strips the newline character\n",
    "    for line in Lines:\n",
    "        count += 1\n",
    "        line = line.rstrip()\n",
    "        if line:\n",
    "            string += line.strip() + \" \"\n",
    "    return string\n"
   ]
  },
  {
   "cell_type": "code",
   "execution_count": 13,
   "id": "ba1304d7",
   "metadata": {},
   "outputs": [
    {
     "name": "stdout",
     "output_type": "stream",
     "text": [
      "87\n",
      "0 : /Users/mehmetburaksayici/Desktop/sahibinden/ccrraawwll/crawlingbutton/2023-animated-like-buttonpure-css\n",
      "1 : /Users/mehmetburaksayici/Desktop/sahibinden/ccrraawwll/crawlingbutton/2023-3d-challengekevin-powell\n",
      "2 : /Users/mehmetburaksayici/Desktop/sahibinden/ccrraawwll/crawlingbutton/2023-pen-export-zYaZXLJ\n",
      "3 : /Users/mehmetburaksayici/Desktop/sahibinden/ccrraawwll/crawlingbutton/2023-glowy-button\n",
      "4 : /Users/mehmetburaksayici/Desktop/sahibinden/ccrraawwll/crawlingbutton/2023-3d-button-with-shading-experiment\n",
      "5 : /Users/mehmetburaksayici/Desktop/sahibinden/ccrraawwll/crawlingbutton/2023-rubber-button\n",
      "6 : /Users/mehmetburaksayici/Desktop/sahibinden/ccrraawwll/crawlingbutton/2023-arrow-buttons\n",
      "7 : /Users/mehmetburaksayici/Desktop/sahibinden/ccrraawwll/crawlingbutton/2023-social-animation\n",
      "8 : /Users/mehmetburaksayici/Desktop/sahibinden/ccrraawwll/crawlingbutton/2023-multi-step-growing-button-css-only-cpc\n",
      "9 : /Users/mehmetburaksayici/Desktop/sahibinden/ccrraawwll/crawlingbutton/2023-microinteractions-1\n",
      "10 : /Users/mehmetburaksayici/Desktop/sahibinden/ccrraawwll/crawlingbutton/2023-pen-export-KKXRdgE\n",
      "11 : /Users/mehmetburaksayici/Desktop/sahibinden/ccrraawwll/crawlingbutton/2023-social-media-icon-5\n",
      "12 : /Users/mehmetburaksayici/Desktop/sahibinden/ccrraawwll/crawlingbutton/2023-css-only-3d-perspective-button\n",
      "13 : /Users/mehmetburaksayici/Desktop/sahibinden/ccrraawwll/crawlingbutton/2023-3-techniques-in-1-pen-candy-ghost-buttons\n",
      "14 : /Users/mehmetburaksayici/Desktop/sahibinden/ccrraawwll/crawlingbutton/2023-parlor-bubble\n",
      "15 : /Users/mehmetburaksayici/Desktop/sahibinden/ccrraawwll/crawlingbutton/2023-css-only-sliding-button\n",
      "16 : /Users/mehmetburaksayici/Desktop/sahibinden/ccrraawwll/crawlingbutton/2023-spacy-button\n",
      "17 : /Users/mehmetburaksayici/Desktop/sahibinden/ccrraawwll/crawlingbutton/2023-button-hover-liquid-animation\n",
      "18 : /Users/mehmetburaksayici/Desktop/sahibinden/ccrraawwll/crawlingbutton/2023-button-hover-effects\n",
      "19 : /Users/mehmetburaksayici/Desktop/sahibinden/ccrraawwll/crawlingbutton/2023-collision-buttons\n",
      "20 : /Users/mehmetburaksayici/Desktop/sahibinden/ccrraawwll/crawlingbutton/2023-buttons-css\n",
      "21 : /Users/mehmetburaksayici/Desktop/sahibinden/ccrraawwll/crawlingbutton/2023-throwing-shapes\n",
      "22 : /Users/mehmetburaksayici/Desktop/sahibinden/ccrraawwll/crawlingbutton/2023-button-animation\n",
      "23 : /Users/mehmetburaksayici/Desktop/sahibinden/ccrraawwll/crawlingbutton/2023-no-sprite-no-js-heart-animationclick-it\n",
      "24 : /Users/mehmetburaksayici/Desktop/sahibinden/ccrraawwll/crawlingbutton/2023-pen-export-YzEqOwe\n",
      "25 : /Users/mehmetburaksayici/Desktop/sahibinden/ccrraawwll/crawlingbutton/2023-material-more-button-css\n",
      "26 : /Users/mehmetburaksayici/Desktop/sahibinden/ccrraawwll/crawlingbutton/2023-fancy-buttons-with-long-shadow\n",
      "27 : /Users/mehmetburaksayici/Desktop/sahibinden/ccrraawwll/crawlingbutton/2023-fancy-border-style-button\n",
      "28 : /Users/mehmetburaksayici/Desktop/sahibinden/ccrraawwll/crawlingbutton/2023-flickering-neon-button\n",
      "29 : /Users/mehmetburaksayici/Desktop/sahibinden/ccrraawwll/crawlingbutton/2023-minimal-button-with-amazing-hover-effects\n",
      "30 : /Users/mehmetburaksayici/Desktop/sahibinden/ccrraawwll/crawlingbutton/2023-play-button-animation\n",
      "31 : /Users/mehmetburaksayici/Desktop/sahibinden/ccrraawwll/crawlingbutton/2023-cut-corner-cool-button\n",
      "32 : /Users/mehmetburaksayici/Desktop/sahibinden/ccrraawwll/crawlingbutton/2023-send\n",
      "33 : /Users/mehmetburaksayici/Desktop/sahibinden/ccrraawwll/crawlingbutton/2023-shimmer-button\n",
      "34 : /Users/mehmetburaksayici/Desktop/sahibinden/ccrraawwll/crawlingbutton/2023-codevember-4-2021-soft-buttons-hover-focus-and-presskeep-pressed-release-click-fast-play-with-it\n",
      "35 : /Users/mehmetburaksayici/Desktop/sahibinden/ccrraawwll/crawlingbutton/2022-button-glow\n",
      "36 : /Users/mehmetburaksayici/Desktop/sahibinden/ccrraawwll/crawlingbutton/2023-aqua-button-pure-css\n",
      "37 : /Users/mehmetburaksayici/Desktop/sahibinden/ccrraawwll/crawlingbutton/2023-hover-for-fun\n",
      "38 : /Users/mehmetburaksayici/Desktop/sahibinden/ccrraawwll/crawlingbutton/2023-wavy\n",
      "39 : /Users/mehmetburaksayici/Desktop/sahibinden/ccrraawwll/crawlingbutton/2023-grid-template-links\n",
      "40 : /Users/mehmetburaksayici/Desktop/sahibinden/ccrraawwll/crawlingbutton/2023-rotating-links-buttons-with-text-placed-on-a-circular-path\n",
      "41 : /Users/mehmetburaksayici/Desktop/sahibinden/ccrraawwll/crawlingbutton/2023-rainbow-button-animations\n",
      "42 : /Users/mehmetburaksayici/Desktop/sahibinden/ccrraawwll/crawlingbutton/2023-button-hover-state-border-radius-fun\n",
      "43 : /Users/mehmetburaksayici/Desktop/sahibinden/ccrraawwll/crawlingbutton/2023-pen-export-oNyNbNO\n",
      "44 : /Users/mehmetburaksayici/Desktop/sahibinden/ccrraawwll/crawlingbutton/2023-neon-glass-button\n",
      "45 : /Users/mehmetburaksayici/Desktop/sahibinden/ccrraawwll/crawlingbutton/2023-css3-glass-buttons-v2\n",
      "46 : /Users/mehmetburaksayici/Desktop/sahibinden/ccrraawwll/crawlingbutton/2023-power-button-w-animated-icon\n",
      "47 : /Users/mehmetburaksayici/Desktop/sahibinden/ccrraawwll/crawlingbutton/2023-css-button-background-position\n",
      "48 : /Users/mehmetburaksayici/Desktop/sahibinden/ccrraawwll/crawlingbutton/2023-perspective-hover-icons\n",
      "49 : /Users/mehmetburaksayici/Desktop/sahibinden/ccrraawwll/crawlingbutton/2023-pen-export-mdKwwNG\n",
      "50 : /Users/mehmetburaksayici/Desktop/sahibinden/ccrraawwll/crawlingbutton/2023-css-cyberpunk-buttons-hover-to-glitch\n",
      "51 : /Users/mehmetburaksayici/Desktop/sahibinden/ccrraawwll/crawlingbutton/2023-play-button-animation-2\n",
      "52 : /Users/mehmetburaksayici/Desktop/sahibinden/ccrraawwll/crawlingbutton/2023-smooth-filling-button-hover-animation\n",
      "53 : /Users/mehmetburaksayici/Desktop/sahibinden/ccrraawwll/crawlingbutton/2023-reflective-neon-button\n",
      "54 : /Users/mehmetburaksayici/Desktop/sahibinden/ccrraawwll/crawlingbutton/2023-glitchy-cyberpunk-button\n",
      "55 : /Users/mehmetburaksayici/Desktop/sahibinden/ccrraawwll/crawlingbutton/2023-yes-no-slanted-button-with-cool-hover-effect\n",
      "56 : /Users/mehmetburaksayici/Desktop/sahibinden/ccrraawwll/crawlingbutton/2023-simple-rotating-play-icon\n",
      "57 : /Users/mehmetburaksayici/Desktop/sahibinden/ccrraawwll/crawlingbutton/2023-button-hover-effect\n",
      "58 : /Users/mehmetburaksayici/Desktop/sahibinden/ccrraawwll/crawlingbutton/2023-neon-y-elements\n",
      "59 : /Users/mehmetburaksayici/Desktop/sahibinden/ccrraawwll/crawlingbutton/2023-pure-css-close-button\n",
      "60 : /Users/mehmetburaksayici/Desktop/sahibinden/ccrraawwll/crawlingbutton/2023-neon-button\n",
      "61 : /Users/mehmetburaksayici/Desktop/sahibinden/ccrraawwll/crawlingbutton/2023-animated-button-with-masked-border-speedycsstips\n",
      "62 : /Users/mehmetburaksayici/Desktop/sahibinden/ccrraawwll/crawlingbutton/2023-sparkly-shiny-text\n",
      "63 : /Users/mehmetburaksayici/Desktop/sahibinden/ccrraawwll/crawlingbutton/2023-playing-with-temani-s-css-only-back-to-top-button\n",
      "64 : /Users/mehmetburaksayici/Desktop/sahibinden/ccrraawwll/crawlingbutton/2023-day-30-today-we-going-to-design-a-button-with-an-awesome-hover-effect\n",
      "65 : /Users/mehmetburaksayici/Desktop/sahibinden/ccrraawwll/crawlingbutton/2023-pill-buttons-animation\n",
      "66 : /Users/mehmetburaksayici/Desktop/sahibinden/ccrraawwll/crawlingbutton/2023-svg-play-buttons\n",
      "67 : /Users/mehmetburaksayici/Desktop/sahibinden/ccrraawwll/crawlingbutton/2023-simple-minimal-neumorphic-buttons\n",
      "68 : /Users/mehmetburaksayici/Desktop/sahibinden/ccrraawwll/crawlingbutton/2023-css-glassmorphism-button-hover-effects-glass-morphism\n",
      "69 : /Users/mehmetburaksayici/Desktop/sahibinden/ccrraawwll/crawlingbutton/2023-useful-responsive-customizable-buttons-that-s-all\n",
      "70 : /Users/mehmetburaksayici/Desktop/sahibinden/ccrraawwll/crawlingbutton/2023-slanted-wavy-button-with-cool-hover-effect\n",
      "71 : /Users/mehmetburaksayici/Desktop/sahibinden/ccrraawwll/crawlingbutton/2023-neon-button-animation-ui\n",
      "72 : /Users/mehmetburaksayici/Desktop/sahibinden/ccrraawwll/crawlingbutton/2023-pure-css-floating-action-button\n",
      "73 : /Users/mehmetburaksayici/Desktop/sahibinden/ccrraawwll/crawlingbutton/2023-erase-icon-conceptpure-css\n",
      "74\n"
     ]
    }
   ],
   "source": [
    "import shutil\n",
    "\n",
    "\n",
    "\n",
    "i = 0\n",
    "print(len(folders))\n",
    "for ff in folders:\n",
    "    try:\n",
    "\n",
    "        files = os.listdir(ff)\n",
    "        nestfolder =   list(filter(os.path.isdir, [os.path.join(ff, f) for f in os.listdir(ff)]))[0]\n",
    "        base = nestfolder+\"/dist/\"\n",
    "        files = os.listdir(base)\n",
    "\n",
    "        html_name = [i for i in files if \"html\" in i]\n",
    "        if bool(html_name):\n",
    "            html_name = html_name[0]\n",
    "            htmlpath = os.path.join(base,html_name)\n",
    "            if os.path.exists(htmlpath):\n",
    "\n",
    "                text_ = \"\"\"\"\"\"\n",
    "                text_ += \"\"\" ---webpage-start--- \"\"\"\n",
    "\n",
    "                html_ = \"\"\"\"\"\"\n",
    "                html_ += \" ---html-start--- \"\n",
    "                #html_ += f\" ---{html_name}--- \"\n",
    "                html_ += returnstring(htmlpath)\n",
    "                html_ += \" ---html-end--- \"\n",
    "                text_+= html_\n",
    "                csses = [i for i in files if \"css\" in i ]\n",
    "                if csses:\n",
    "                    css_str = \"\"\"\"\"\"\n",
    "\n",
    "                \n",
    "                    for css_ in csses:\n",
    "\n",
    "                        #css_str += \" ---css-start--- \"\n",
    "                        css_str += f\" ---{css_}--- \"\n",
    "                        css_str += returnstring(os.path.join(base,css_))\n",
    "                        css_str += \" ---css-end--- \"\n",
    "                    text_+= css_str\n",
    "\n",
    "                scsses = [i for i in files if \"scss\" in i ]\n",
    "\n",
    "                if scsses:\n",
    "                    scss_str = \"\"\"\"\"\"\n",
    "                    htmlpath = os.path.join(ff,\"index.html\")\n",
    "                    scsses = [i for i in os.listdir(os.path.join(ff,\"scss\")) if \"scss\" in i]\n",
    "                    for scss_ in scsses:\n",
    "\n",
    "                        os.path.join(ff,scss_)\n",
    "                        scss_str += \" ---scss-start--- \"\n",
    "                        #scss_str += f\" ---{scss_}--- \"\n",
    "                        scss_str += returnstring(os.path.join(base,scss_))\n",
    "                        scss_str += \" ---scss-end--- \"\n",
    "\n",
    "                    text_+= scss_str\n",
    "\n",
    "                text_ += \"\"\" ---webpage-end--- \"\"\"\n",
    "\n",
    "                name_ = os.path.join(savepath,str(i)+\".txt\")\n",
    "                with open(name_, 'w') as f:\n",
    "                    f.write(text_)\n",
    "\n",
    "\n",
    "\n",
    "                import shutil\n",
    "\n",
    "                shutil.copyfile(os.path.join(ff,\"image.png\"), os.path.join(savepath,f\"{i}.png\"))\n",
    "                print(i,\":\",ff)\n",
    "                i+=1\n",
    "\n",
    "    except Exception as exc:\n",
    "        #print(exc)\n",
    "        pass\n",
    "        \n",
    "print(i)"
   ]
  },
  {
   "cell_type": "code",
   "execution_count": null,
   "id": "4b5fe21f",
   "metadata": {},
   "outputs": [],
   "source": [
    "files = [savepath+ \"/\"+i for i in os.listdir(savepath) if \"txt\" in i]"
   ]
  },
  {
   "cell_type": "code",
   "execution_count": null,
   "id": "21860afc",
   "metadata": {},
   "outputs": [],
   "source": [
    "from tokenizers.trainers import BpeTrainer\n",
    "import tokenizers\n",
    "\n",
    "from tokenizers import Tokenizer\n",
    "from tokenizers.models import BPE\n",
    "\n",
    "tokenizer = Tokenizer(BPE())\n",
    "from tokenizers.pre_tokenizers import Whitespace\n",
    "\n",
    "tokenizer.pre_tokenizer = Whitespace()\n",
    "\n",
    "\n",
    "trainer = BpeTrainer(special_tokens=[\"[UNK]\", \"[CLS]\", \"[SEP]\", \"[PAD]\", \"[MASK]\",\n",
    "                                               \" ---scss-start--- \",\n",
    "                                               \" ---scss-end--- \",\n",
    "                                               \" ---css-start--- \",\n",
    "                                               \" ---css-end--- \",\n",
    "                                               \" ---webpage-start--- \",\n",
    "                                               \" ---webpage-end--- \",\n",
    "                                               \" ---html-start--- \",\n",
    "                                               \" ---html-end--- \",\n",
    "                                               \" ---js-start--- \",\n",
    "                                               \" ---js-end--- \"                                              \n",
    "                                              ])\n",
    "\n",
    "\n",
    "tokenizer.train(files=files, trainer=trainer)\n"
   ]
  },
  {
   "cell_type": "code",
   "execution_count": null,
   "id": "95333886",
   "metadata": {},
   "outputs": [],
   "source": [
    "tokenizer.train(files=files, trainer=trainer)\n"
   ]
  },
  {
   "cell_type": "code",
   "execution_count": null,
   "id": "b072f1e9",
   "metadata": {},
   "outputs": [],
   "source": [
    "output = tokenizer.encode(text_)\n",
    "print(output.tokens)\n"
   ]
  },
  {
   "cell_type": "code",
   "execution_count": null,
   "id": "e988b9e5",
   "metadata": {},
   "outputs": [],
   "source": [
    "output"
   ]
  },
  {
   "cell_type": "code",
   "execution_count": null,
   "id": "bba3f234",
   "metadata": {},
   "outputs": [],
   "source": [
    "import cssutils\n",
    "\n",
    "css_code = \"\"\"\n",
    "h1 {\n",
    "    font-family: 'Helvetica Neue', Arial, sans-serif;\n",
    "    color: #333;\n",
    "}\n",
    "\"\"\"\n",
    "\n",
    "# Create a new CSSParser object\n",
    "parser = cssutils.CSSParser()\n",
    "\n",
    "# Parse the CSS code and create a stylesheet object\n",
    "sheet = parser.parseString(css_str)\n",
    "\n",
    "# Iterate through each rule in the stylesheet\n",
    "for rule in sheet:\n",
    "    # Print the selector text\n",
    "    print(rule.selectorText)\n",
    "\n",
    "    # Iterate through each property in the rule\n",
    "    for prop in rule.style:\n",
    "        # Print the property name and value\n",
    "        print(prop.name, prop.value)\n"
   ]
  },
  {
   "cell_type": "code",
   "execution_count": null,
   "id": "bba742e4",
   "metadata": {},
   "outputs": [],
   "source": [
    "!pip install cssutils\n"
   ]
  },
  {
   "cell_type": "code",
   "execution_count": null,
   "id": "f5f116dc",
   "metadata": {},
   "outputs": [],
   "source": [
    "css_str"
   ]
  },
  {
   "cell_type": "code",
   "execution_count": null,
   "id": "4ed72661",
   "metadata": {},
   "outputs": [],
   "source": []
  }
 ],
 "metadata": {
  "kernelspec": {
   "display_name": "Python 3 (ipykernel)",
   "language": "python",
   "name": "python3"
  },
  "language_info": {
   "codemirror_mode": {
    "name": "ipython",
    "version": 3
   },
   "file_extension": ".py",
   "mimetype": "text/x-python",
   "name": "python",
   "nbconvert_exporter": "python",
   "pygments_lexer": "ipython3",
   "version": "3.8.13"
  }
 },
 "nbformat": 4,
 "nbformat_minor": 5
}
